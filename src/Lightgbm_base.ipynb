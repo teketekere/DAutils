{
 "cells": [
  {
   "cell_type": "code",
   "execution_count": 114,
   "metadata": {},
   "outputs": [],
   "source": [
    "import pandas as pd\n",
    "import numpy as np\n",
    "import matplotlib.pyplot as plt\n",
    "import gc\n",
    "import os\n",
    "from datetime import datetime as dt\n",
    "%matplotlib inline\n",
    "\n",
    "import lightgbm as lgb\n",
    "from sklearn.model_selection import KFold\n",
    "from sklearn.preprocessing import LabelEncoder\n",
    "\n",
    "categorical = []\n",
    "NFOLDS = 3\n",
    "Seedarray = range(NFOLDS)"
   ]
  },
  {
   "cell_type": "code",
   "execution_count": 118,
   "metadata": {},
   "outputs": [],
   "source": [
    "def rmse(y, y0):\n",
    "    assert len(y) == len(y0)\n",
    "    return np.sqrt(np.mean(np.power((y - y0), 2)))\n",
    "\n",
    "def get_lgb_model(Dtrain, Dvalid, isValid=True, bestiter=0, randomseed=0):\n",
    "    lgbm_params = {'task': 'train',\n",
    "                    'boosting_type': 'gbdt',\n",
    "                    'objective': 'regression',\n",
    "                    'metric': 'rmse',\n",
    "                    #'max_depth': 15,\n",
    "                    'num_leaves': 270,\n",
    "                    'feature_fraction': 0.5,\n",
    "                    'bagging_fraction': 0.75,\n",
    "                    'bagging_freq': 2,\n",
    "                    'learning_rate': 0.016\n",
    "                  }\n",
    "    evals_results = {}\n",
    "    # Train lgb\n",
    "    if isValid == True:\n",
    "        lgb_clf = lgb.train(lgbm_params,\n",
    "                            Dtrain,\n",
    "                            valid_sets=[Dvalid],\n",
    "                            valid_names=['valid'],\n",
    "                            num_boost_round=2500,\n",
    "                            early_stopping_rounds=50,\n",
    "                            verbose_eval=50,\n",
    "                            evals_result=evals_results,\n",
    "                            feval=None\n",
    "                           )\n",
    "    else:\n",
    "        lgb_clf = lgb.train(lgbm_params,\n",
    "                            Dtrain,\n",
    "                            valid_sets=[Dvalid],\n",
    "                            valid_names=['valid'],\n",
    "                            num_boost_round=np.uint(bestiter*1.1),\n",
    "                            verbose_eval=100,\n",
    "                            feval=None\n",
    "                           )\n",
    "    # Plot importances\n",
    "    lgb.plot_importance(lgb_clf, importance_type=\"split\", title=\"split\")\n",
    "    plt.show()\n",
    "    lgb.plot_importance(lgb_clf, importance_type=\"gain\", title='gain')\n",
    "    plt.show()\n",
    "\n",
    "    best_iteration = lgb_clf.best_iteration\n",
    "    print(f'best iteration is {best_iteration}')\n",
    "    if isValid:\n",
    "        best_score = evals_results['valid']['rmse'][lgb_clf.best_iteration-1]\n",
    "        print(f'best score is {best_score}')\n",
    "    return lgb_clf, best_iteration\n",
    "\n",
    "def get_lgb_train(trainX, trainy, validX, validy, predictors, categorical):\n",
    "    Dtrain = lgb.Dataset(trainX.values, label=trainy.values.ravel(), feature_name=predictors, categorical_feature=categorical)\n",
    "    Dvalid = lgb.Dataset(validX.values, label=validy.values.ravel(), feature_name=predictors, categorical_feature=categorical)\n",
    "    return Dtrain, Dvalid\n"
   ]
  },
  {
   "cell_type": "code",
   "execution_count": 108,
   "metadata": {},
   "outputs": [
    {
     "ename": "ArrowIOError",
     "evalue": "Failed to open local file: ../features/featured/train/hoge.feather , error: No such file or directory",
     "output_type": "error",
     "traceback": [
      "\u001b[1;31m---------------------------------------------------------------------------\u001b[0m",
      "\u001b[1;31mArrowIOError\u001b[0m                              Traceback (most recent call last)",
      "\u001b[1;32m<ipython-input-108-a70db5b78902>\u001b[0m in \u001b[0;36m<module>\u001b[1;34m()\u001b[0m\n\u001b[0;32m      1\u001b[0m \u001b[1;31m# Example For KFold\u001b[0m\u001b[1;33m\u001b[0m\u001b[1;33m\u001b[0m\u001b[0m\n\u001b[0;32m      2\u001b[0m \u001b[1;33m\u001b[0m\u001b[0m\n\u001b[1;32m----> 3\u001b[1;33m \u001b[0mtrain\u001b[0m\u001b[1;33m,\u001b[0m \u001b[0my\u001b[0m \u001b[1;33m=\u001b[0m \u001b[0mget_train_forlgb\u001b[0m\u001b[1;33m(\u001b[0m\u001b[1;34m'../features/featured/train/hoge.feather'\u001b[0m\u001b[1;33m)\u001b[0m\u001b[1;33m\u001b[0m\u001b[0m\n\u001b[0m\u001b[0;32m      4\u001b[0m \u001b[0mpredictors\u001b[0m \u001b[1;33m=\u001b[0m \u001b[0mtrain\u001b[0m\u001b[1;33m.\u001b[0m\u001b[0mcolumns\u001b[0m\u001b[1;33m.\u001b[0m\u001b[0mtolist\u001b[0m\u001b[1;33m(\u001b[0m\u001b[1;33m)\u001b[0m\u001b[1;33m\u001b[0m\u001b[0m\n\u001b[0;32m      5\u001b[0m \u001b[1;33m\u001b[0m\u001b[0m\n",
      "\u001b[1;32m<ipython-input-106-4164d6bc064a>\u001b[0m in \u001b[0;36mget_train_forlgb\u001b[1;34m(trainpath)\u001b[0m\n\u001b[0;32m     61\u001b[0m \u001b[1;32mdef\u001b[0m \u001b[0mget_train_forlgb\u001b[0m\u001b[1;33m(\u001b[0m\u001b[0mtrainpath\u001b[0m\u001b[1;33m)\u001b[0m\u001b[1;33m:\u001b[0m\u001b[1;33m\u001b[0m\u001b[0m\n\u001b[0;32m     62\u001b[0m \u001b[1;31m#    traindf = pd.read_feather('../features/featured/train/hoge.feather')\u001b[0m\u001b[1;33m\u001b[0m\u001b[1;33m\u001b[0m\u001b[0m\n\u001b[1;32m---> 63\u001b[1;33m     \u001b[0mtraindf\u001b[0m \u001b[1;33m=\u001b[0m \u001b[0mpd\u001b[0m\u001b[1;33m.\u001b[0m\u001b[0mread_feather\u001b[0m\u001b[1;33m(\u001b[0m\u001b[0mtrainpath\u001b[0m\u001b[1;33m)\u001b[0m\u001b[1;33m\u001b[0m\u001b[0m\n\u001b[0m\u001b[0;32m     64\u001b[0m     \u001b[0my\u001b[0m \u001b[1;33m=\u001b[0m \u001b[0mpd\u001b[0m\u001b[1;33m.\u001b[0m\u001b[0mread_csv\u001b[0m\u001b[1;33m(\u001b[0m\u001b[1;34m'../input/train.csv'\u001b[0m\u001b[1;33m,\u001b[0m \u001b[0musecols\u001b[0m\u001b[1;33m=\u001b[0m\u001b[1;33m[\u001b[0m\u001b[1;34m'deal_probability'\u001b[0m\u001b[1;33m]\u001b[0m\u001b[1;33m)\u001b[0m\u001b[1;33m\u001b[0m\u001b[0m\n\u001b[0;32m     65\u001b[0m     \u001b[1;32mreturn\u001b[0m \u001b[0mtraindf\u001b[0m\u001b[1;33m,\u001b[0m \u001b[0my\u001b[0m\u001b[1;33m\u001b[0m\u001b[0m\n",
      "\u001b[1;32m~\\Anaconda3\\envs\\InqueryAnalysis\\lib\\site-packages\\pandas\\io\\feather_format.py\u001b[0m in \u001b[0;36mread_feather\u001b[1;34m(path, nthreads)\u001b[0m\n\u001b[0;32m    110\u001b[0m         \u001b[1;32mreturn\u001b[0m \u001b[0mfeather\u001b[0m\u001b[1;33m.\u001b[0m\u001b[0mread_dataframe\u001b[0m\u001b[1;33m(\u001b[0m\u001b[0mpath\u001b[0m\u001b[1;33m)\u001b[0m\u001b[1;33m\u001b[0m\u001b[0m\n\u001b[0;32m    111\u001b[0m \u001b[1;33m\u001b[0m\u001b[0m\n\u001b[1;32m--> 112\u001b[1;33m     \u001b[1;32mreturn\u001b[0m \u001b[0mfeather\u001b[0m\u001b[1;33m.\u001b[0m\u001b[0mread_dataframe\u001b[0m\u001b[1;33m(\u001b[0m\u001b[0mpath\u001b[0m\u001b[1;33m,\u001b[0m \u001b[0mnthreads\u001b[0m\u001b[1;33m=\u001b[0m\u001b[0mnthreads\u001b[0m\u001b[1;33m)\u001b[0m\u001b[1;33m\u001b[0m\u001b[0m\n\u001b[0m",
      "\u001b[1;32m~\\Anaconda3\\envs\\InqueryAnalysis\\lib\\site-packages\\pyarrow\\feather.py\u001b[0m in \u001b[0;36mread_feather\u001b[1;34m(source, columns, nthreads)\u001b[0m\n\u001b[0;32m    129\u001b[0m     \u001b[0mdf\u001b[0m \u001b[1;33m:\u001b[0m \u001b[0mpandas\u001b[0m\u001b[1;33m.\u001b[0m\u001b[0mDataFrame\u001b[0m\u001b[1;33m\u001b[0m\u001b[0m\n\u001b[0;32m    130\u001b[0m     \"\"\"\n\u001b[1;32m--> 131\u001b[1;33m     \u001b[0mreader\u001b[0m \u001b[1;33m=\u001b[0m \u001b[0mFeatherReader\u001b[0m\u001b[1;33m(\u001b[0m\u001b[0msource\u001b[0m\u001b[1;33m)\u001b[0m\u001b[1;33m\u001b[0m\u001b[0m\n\u001b[0m\u001b[0;32m    132\u001b[0m     \u001b[1;32mreturn\u001b[0m \u001b[0mreader\u001b[0m\u001b[1;33m.\u001b[0m\u001b[0mread\u001b[0m\u001b[1;33m(\u001b[0m\u001b[0mcolumns\u001b[0m\u001b[1;33m=\u001b[0m\u001b[0mcolumns\u001b[0m\u001b[1;33m,\u001b[0m \u001b[0mnthreads\u001b[0m\u001b[1;33m=\u001b[0m\u001b[0mnthreads\u001b[0m\u001b[1;33m)\u001b[0m\u001b[1;33m\u001b[0m\u001b[0m\n",
      "\u001b[1;32m~\\Anaconda3\\envs\\InqueryAnalysis\\lib\\site-packages\\pyarrow\\feather.py\u001b[0m in \u001b[0;36m__init__\u001b[1;34m(self, source)\u001b[0m\n\u001b[0;32m     41\u001b[0m     \u001b[1;32mdef\u001b[0m \u001b[0m__init__\u001b[0m\u001b[1;33m(\u001b[0m\u001b[0mself\u001b[0m\u001b[1;33m,\u001b[0m \u001b[0msource\u001b[0m\u001b[1;33m)\u001b[0m\u001b[1;33m:\u001b[0m\u001b[1;33m\u001b[0m\u001b[0m\n\u001b[0;32m     42\u001b[0m         \u001b[0mself\u001b[0m\u001b[1;33m.\u001b[0m\u001b[0msource\u001b[0m \u001b[1;33m=\u001b[0m \u001b[0msource\u001b[0m\u001b[1;33m\u001b[0m\u001b[0m\n\u001b[1;32m---> 43\u001b[1;33m         \u001b[0mself\u001b[0m\u001b[1;33m.\u001b[0m\u001b[0mopen\u001b[0m\u001b[1;33m(\u001b[0m\u001b[0msource\u001b[0m\u001b[1;33m)\u001b[0m\u001b[1;33m\u001b[0m\u001b[0m\n\u001b[0m\u001b[0;32m     44\u001b[0m \u001b[1;33m\u001b[0m\u001b[0m\n\u001b[0;32m     45\u001b[0m     \u001b[1;32mdef\u001b[0m \u001b[0mread\u001b[0m\u001b[1;33m(\u001b[0m\u001b[0mself\u001b[0m\u001b[1;33m,\u001b[0m \u001b[0mcolumns\u001b[0m\u001b[1;33m=\u001b[0m\u001b[1;32mNone\u001b[0m\u001b[1;33m,\u001b[0m \u001b[0mnthreads\u001b[0m\u001b[1;33m=\u001b[0m\u001b[1;36m1\u001b[0m\u001b[1;33m)\u001b[0m\u001b[1;33m:\u001b[0m\u001b[1;33m\u001b[0m\u001b[0m\n",
      "\u001b[1;32mfeather.pxi\u001b[0m in \u001b[0;36mpyarrow.lib.FeatherReader.open\u001b[1;34m()\u001b[0m\n",
      "\u001b[1;32mio.pxi\u001b[0m in \u001b[0;36mpyarrow.lib.get_reader\u001b[1;34m()\u001b[0m\n",
      "\u001b[1;32mio.pxi\u001b[0m in \u001b[0;36mpyarrow.lib.memory_map\u001b[1;34m()\u001b[0m\n",
      "\u001b[1;32mio.pxi\u001b[0m in \u001b[0;36mpyarrow.lib.MemoryMappedFile._open\u001b[1;34m()\u001b[0m\n",
      "\u001b[1;32merror.pxi\u001b[0m in \u001b[0;36mpyarrow.lib.check_status\u001b[1;34m()\u001b[0m\n",
      "\u001b[1;31mArrowIOError\u001b[0m: Failed to open local file: ../features/featured/train/hoge.feather , error: No such file or directory"
     ]
    }
   ],
   "source": [
    "# Example For KFold\n",
    "\n",
    "train = pd.read_feather('hoge')\n",
    "y = pd.read_csv('../input/train.csv', usecols=['deal_probability'])\n",
    "predictors = train.columns.tolist()\n",
    "\n",
    "kf = KFold(n_splits=NFOLDS)\n",
    "lgb_models = []\n",
    "best_iters = []\n",
    "preds = pd.DataFrame()\n",
    "\n",
    "for count, indices in enumerate(kf.split(train, y)):\n",
    "    train_idx = indices[0]\n",
    "    valid_idx = indices[1]\n",
    "    Dtrain, Dvalid = get_lgb_train(train.iloc[train_idx,:], y.iloc[train_idx,:], train.iloc[valid_idx,:], y.iloc[valid_idx,:], predictors, categorical)\n",
    "    del train, y; gc.collect()\n",
    "    lgb_model, bestiter = get_lgb_model(Dtrain, Dvalid, isValid=True)\n",
    "    del Dtrain, Dvalid; gc.collect()\n",
    "\n",
    "    test = get_test_forlgb('../features/featured/test/hoge.feather')\n",
    "    preds['lgb_pred_kfold_'+str(count)] = lgb_model.predict(test[predictors], num_iteration=best_iter)\n",
    "    del test; gc.collect()\n",
    "    \n",
    "    lgb_models.append(lgb_model)\n",
    "    best_iters.append(bestiter)\n",
    "    train = pd.read_feather('hoge')\n",
    "    y = pd.read_csv('../input/train.csv', usecols=['deal_probability'])\n",
    "\n",
    "print('Best iterations:')\n",
    "print(best_iters)\n",
    "\n",
    "subs = pd.read_csv('../input/test.csv', usecols=['item_id'])\n",
    "\n",
    "pred_ensemble = np.zeros_like(preds['lgb_pred_kfold_0'].values)\n",
    "for col in preds.columns:\n",
    "    pred_ensemble += preds[col].values\n",
    "pred_ensemble /= np.float(NFOLDS)\n",
    "pred_ensemble = np.clip(pred_ensemble, 0, 1)\n",
    "subs['deal_probability'] = pred_ensemble.flatten()\n",
    "\n",
    "datetime = dt.now().strftime('%Y_%m%d_%H%M_%S')\n",
    "filename = '../subs/lightgbm_kfold_ensemble_'+datetime+'.csv.gz'\n",
    "subs.to_csv(filename, index=False, float_format='%.9f', compression='gzip',)\n",
    "\n",
    "del subs, lgb_models, best_iters; gc.collect()"
   ]
  },
  {
   "cell_type": "code",
   "execution_count": null,
   "metadata": {},
   "outputs": [],
   "source": [
    "# Example For whole traindata\n",
    "bestiter = 'HOGEHOGE'\n",
    "train = pd.read_feather('hoge')\n",
    "y = pd.read_csv('../input/train.csv', usecols=['deal_probability'])\n",
    "predictors = train.columns.tolist()\n",
    "\n",
    "Dtrain, Dvalid = get_lgb_train(train, y, train.iloc[:2, :], y.iloc[:2, :], predictors, categorical)\n",
    "del train, y; gc.collect()\n",
    "lgb_model, best_iter = get_lgb_model(Dtrain, Dvalid, isValid=False, bestiter=bestiter)\n",
    "del Dtrain; gc.collect()\n",
    "\n",
    "subs = pd.read_csv('../input/test.csv', usecols=['item_id'])\n",
    "test = get_test_forlgb('../features/featured/test/hoge.feather')\n",
    "subs['deal_probability'] = lgb_model.predict(test[predictors], num_iteration=best_iter)\n",
    "\n",
    "datetime = dt.now().strftime('%Y_%m%d_%H%M_%S')\n",
    "filename = '../subs/lightgbm_wholedata_'+datetime+'.csv.gz'\n",
    "subs.to_csv(filename, index=False, float_format='%.9f', compression='gzip',)\n",
    "\n",
    "del subs, test; gc.collect()"
   ]
  },
  {
   "cell_type": "code",
   "execution_count": null,
   "metadata": {},
   "outputs": [],
   "source": []
  },
  {
   "cell_type": "code",
   "execution_count": null,
   "metadata": {},
   "outputs": [],
   "source": []
  },
  {
   "cell_type": "code",
   "execution_count": null,
   "metadata": {},
   "outputs": [],
   "source": []
  },
  {
   "cell_type": "code",
   "execution_count": 117,
   "metadata": {},
   "outputs": [
    {
     "name": "stdout",
     "output_type": "stream",
     "text": [
      "['price', 'image_top_1']\n",
      "Training until validation scores don't improve for 50 rounds.\n"
     ]
    },
    {
     "name": "stderr",
     "output_type": "stream",
     "text": [
      "C:\\Users\\osk\\Anaconda3\\envs\\InqueryAnalysis\\lib\\site-packages\\lightgbm\\basic.py:1036: UserWarning: Using categorical_feature in Dataset.\n",
      "  warnings.warn('Using categorical_feature in Dataset.')\n"
     ]
    },
    {
     "name": "stdout",
     "output_type": "stream",
     "text": [
      "[50]\tvalid's rmse: 0.252395\n",
      "[100]\tvalid's rmse: 0.249167\n",
      "[150]\tvalid's rmse: 0.247827\n",
      "[200]\tvalid's rmse: 0.247183\n",
      "[250]\tvalid's rmse: 0.246808\n",
      "[300]\tvalid's rmse: 0.246559\n",
      "[350]\tvalid's rmse: 0.246387\n",
      "[400]\tvalid's rmse: 0.246237\n",
      "[450]\tvalid's rmse: 0.246133\n",
      "[500]\tvalid's rmse: 0.246053\n",
      "[550]\tvalid's rmse: 0.245987\n",
      "[600]\tvalid's rmse: 0.245918\n",
      "[650]\tvalid's rmse: 0.245858\n",
      "[700]\tvalid's rmse: 0.245821\n",
      "[750]\tvalid's rmse: 0.245785\n",
      "[800]\tvalid's rmse: 0.245758\n",
      "[850]\tvalid's rmse: 0.245735\n",
      "[900]\tvalid's rmse: 0.24571\n",
      "[950]\tvalid's rmse: 0.245703\n",
      "[1000]\tvalid's rmse: 0.245697\n",
      "[1050]\tvalid's rmse: 0.245695\n",
      "Early stopping, best iteration is:\n",
      "[1034]\tvalid's rmse: 0.245684\n"
     ]
    },
    {
     "data": {
      "image/png": "[encoded data removed]",
      "text/plain": [
       "<Figure size 432x288 with 1 Axes>"
      ]
     },
     "metadata": {},
     "output_type": "display_data"
    },
    {
     "data": {
      "image/png": "[encoded data removed]",
      "text/plain": [
       "<Figure size 432x288 with 1 Axes>"
      ]
     },
     "metadata": {},
     "output_type": "display_data"
    },
    {
     "name": "stdout",
     "output_type": "stream",
     "text": [
      "best iteration is 1034\n",
      "best score is 0.24568382532443125\n",
      "Training until validation scores don't improve for 50 rounds.\n",
      "[50]\tvalid's rmse: 0.25197\n",
      "[100]\tvalid's rmse: 0.248738\n",
      "[150]\tvalid's rmse: 0.247407\n",
      "[200]\tvalid's rmse: 0.246756\n",
      "[250]\tvalid's rmse: 0.246389\n",
      "[300]\tvalid's rmse: 0.246137\n",
      "[350]\tvalid's rmse: 0.245947\n",
      "[400]\tvalid's rmse: 0.245793\n",
      "[450]\tvalid's rmse: 0.245684\n",
      "[500]\tvalid's rmse: 0.245584\n",
      "[550]\tvalid's rmse: 0.245502\n",
      "[600]\tvalid's rmse: 0.245419\n",
      "[650]\tvalid's rmse: 0.245366\n",
      "[700]\tvalid's rmse: 0.245321\n",
      "[750]\tvalid's rmse: 0.245286\n",
      "[800]\tvalid's rmse: 0.24526\n",
      "[850]\tvalid's rmse: 0.245221\n",
      "[900]\tvalid's rmse: 0.245178\n",
      "[950]\tvalid's rmse: 0.245161\n",
      "[1000]\tvalid's rmse: 0.245146\n",
      "[1050]\tvalid's rmse: 0.245136\n",
      "[1100]\tvalid's rmse: 0.245118\n",
      "[1150]\tvalid's rmse: 0.245111\n",
      "[1200]\tvalid's rmse: 0.245108\n",
      "[1250]\tvalid's rmse: 0.245092\n",
      "[1300]\tvalid's rmse: 0.245101\n",
      "Early stopping, best iteration is:\n",
      "[1250]\tvalid's rmse: 0.245092\n"
     ]
    },
    {
     "data": {
      "image/png": "[encoded data removed]",
      "text/plain": [
       "<Figure size 432x288 with 1 Axes>"
      ]
     },
     "metadata": {},
     "output_type": "display_data"
    },
    {
     "data": {
      "image/png": "[encoded data removed]",
      "text/plain": [
       "<Figure size 432x288 with 1 Axes>"
      ]
     },
     "metadata": {},
     "output_type": "display_data"
    },
    {
     "name": "stdout",
     "output_type": "stream",
     "text": [
      "best iteration is 1250\n",
      "best score is 0.24509168335582635\n",
      "Best iterations:\n",
      "[1034, 1250]\n",
      "done\n"
     ]
    }
   ],
   "source": [
    "# Debug\n",
    "train = pd.read_csv('../input/train.csv', usecols=['price', 'image_top_1'], nrows=100000, dtype={'price': 'float32', 'image_top_1': 'float32'})\n",
    "train = train.fillna(0)\n",
    "y = pd.read_csv('../input/train.csv', usecols=['deal_probability'], nrows=100000)\n",
    "predictors = train.columns.tolist()\n",
    "\n",
    "skf = KFold(n_splits=2)\n",
    "lgb_models = []\n",
    "best_iters = []\n",
    "preds = pd.DataFrame()\n",
    "count = 0\n",
    "\n",
    "print(predictors)\n",
    "for count, indices in enumerate(skf.split(train, y)):\n",
    "    train_idx = indices[0]\n",
    "    valid_idx = indices[1]\n",
    "    Dtrain, Dvalid = get_lgb_train(train.iloc[train_idx,:], y.iloc[train_idx,:], train.iloc[valid_idx,:], y.iloc[valid_idx,:], predictors, categorical)\n",
    "    del train, y; gc.collect()\n",
    "    lgb_model, best_iter = get_lgb_model(Dtrain, Dvalid, isValid=True)\n",
    "    del Dtrain, Dvalid; gc.collect()\n",
    "\n",
    "    test = pd.read_csv('../input/test.csv', usecols=['price', 'image_top_1'], nrows=100000, dtype={'price': 'float32', 'image_top_1': 'float32'})\n",
    "    preds['lgb_pred_kfold_'+str(count)] = lgb_model.predict(test[predictors], num_iteration=best_iter)\n",
    "    del test; gc.collect()\n",
    "    \n",
    "    lgb_models.append(lgb_model)\n",
    "    best_iters.append(best_iter)\n",
    "    train = pd.read_csv('../input/train.csv', usecols=['price', 'image_top_1'], nrows=100000, dtype={'price': np.float32, 'image_top_1': np.float32})\n",
    "    train.fillna(0)\n",
    "    y = pd.read_csv('../input/train.csv', usecols=['deal_probability'], nrows=100000)\n",
    "\n",
    "print('Best iterations:')\n",
    "print(best_iters)\n",
    "\n",
    "subs = pd.read_csv('../input/test.csv', usecols=['item_id'], nrows=100000)\n",
    "\n",
    "pred_ensemble = np.zeros_like(preds['lgb_pred_kfold_0'].values)\n",
    "for col in preds.columns:\n",
    "    pred_ensemble += preds[col].values\n",
    "pred_ensemble /= np.float(NFOLDS)\n",
    "pred_ensemble = np.clip(pred_ensemble, 0, 1)\n",
    "subs['deal_probability'] = pred_ensemble.flatten()\n",
    "\n",
    "datetime = dt.now().strftime('%Y_%m%d_%H%M_%S')\n",
    "filename = '../subs/lightgbm_kfold_ensemble_'+datetime+'.csv.gz'\n",
    "subs.to_csv(filename, index=False, float_format='%.9f', compression='gzip',)\n",
    "\n",
    "del subs, lgb_models, best_iters; gc.collect()\n",
    "\n",
    "print('done')"
   ]
  },
  {
   "cell_type": "code",
   "execution_count": 116,
   "metadata": {},
   "outputs": [
    {
     "name": "stderr",
     "output_type": "stream",
     "text": [
      "C:\\Users\\osk\\Anaconda3\\envs\\InqueryAnalysis\\lib\\site-packages\\lightgbm\\basic.py:1036: UserWarning: Using categorical_feature in Dataset.\n",
      "  warnings.warn('Using categorical_feature in Dataset.')\n"
     ]
    },
    {
     "name": "stdout",
     "output_type": "stream",
     "text": [
      "[100]\tvalid's rmse: 0.0955291\n",
      "[200]\tvalid's rmse: 0.0931288\n",
      "[300]\tvalid's rmse: 0.0910921\n",
      "[400]\tvalid's rmse: 0.0892808\n",
      "[500]\tvalid's rmse: 0.0880774\n"
     ]
    },
    {
     "data": {
      "image/png": "[encoded data removed]",
      "text/plain": [
       "<Figure size 432x288 with 1 Axes>"
      ]
     },
     "metadata": {},
     "output_type": "display_data"
    },
    {
     "data": {
      "image/png": "[encoded data removed]",
      "text/plain": [
       "<Figure size 432x288 with 1 Axes>"
      ]
     },
     "metadata": {},
     "output_type": "display_data"
    },
    {
     "name": "stdout",
     "output_type": "stream",
     "text": [
      "best iteration is 0\n"
     ]
    },
    {
     "data": {
      "text/plain": [
       "21"
      ]
     },
     "execution_count": 116,
     "metadata": {},
     "output_type": "execute_result"
    }
   ],
   "source": [
    "# Debug\n",
    "# Example For whole traindata\n",
    "bestiter = 500\n",
    "train = pd.read_csv('../input/train.csv', usecols=['price', 'image_top_1'], nrows=100000, dtype={'price': 'float32', 'image_top_1': 'float32'})\n",
    "train = train.fillna(0)\n",
    "y = pd.read_csv('../input/train.csv', usecols=['deal_probability'], nrows=100000)\n",
    "predictors = train.columns.tolist()\n",
    "\n",
    "Dtrain, Dvalid = get_lgb_train(train, y, train.iloc[:2, :], y.iloc[:2, :], predictors, categorical)\n",
    "del train, y; gc.collect()\n",
    "lgb_model, best_iter = get_lgb_model(Dtrain, Dvalid, isValid=False, bestiter=bestiter)\n",
    "del Dtrain; gc.collect()\n",
    "\n",
    "subs = pd.read_csv('../input/test.csv', usecols=['item_id'], nrows=100000)\n",
    "test = pd.read_csv('../input/test.csv', usecols=['price', 'image_top_1'], nrows=100000, dtype={'price': 'float32', 'image_top_1': 'float32'})\n",
    "subs['deal_probability'] = lgb_model.predict(test[predictors], num_iteration=best_iter)\n",
    "\n",
    "datetime = dt.now().strftime('%Y_%m%d_%H%M_%S')\n",
    "filename = '../subs/lightgbm_wholedata_'+datetime+'.csv.gz'\n",
    "subs.to_csv(filename, index=False, float_format='%.9f', compression='gzip',)\n",
    "\n",
    "del subs, test; gc.collect()"
   ]
  },
  {
   "cell_type": "code",
   "execution_count": null,
   "metadata": {},
   "outputs": [],
   "source": []
  }
 ],
 "metadata": {
  "kernelspec": {
   "display_name": "Python 3",
   "language": "python",
   "name": "python3"
  },
  "language_info": {
   "codemirror_mode": {
    "name": "ipython",
    "version": 3
   },
   "file_extension": ".py",
   "mimetype": "text/x-python",
   "name": "python",
   "nbconvert_exporter": "python",
   "pygments_lexer": "ipython3",
   "version": "3.6.5"
  }
 },
 "nbformat": 4,
 "nbformat_minor": 2
}
